{
 "cells": [
  {
   "cell_type": "code",
   "execution_count": 1,
   "metadata": {},
   "outputs": [],
   "source": [
    "sentences1 = [\"私は公園で遊びます。\", \"彼女は本を読みます。\", \"彼はテニスをします。\", \"私たちは映画を見に行きます。\", \"私は日本語を勉強しています。\"]\n",
    "\n",
    "sentences2 = [\"私は公園で遊びます。\", \"私は公園で楽しみます。\", \"私は公園で転びます。\", \"私は公園で騒ぎます\", \"私は公園で歩きます。\"]\n"
   ]
  },
  {
   "cell_type": "code",
   "execution_count": 2,
   "metadata": {},
   "outputs": [],
   "source": [
    "sentences1 = [\"私は公園で遊びます。 彼女は本を読みます。\", \"彼はテニスをします。 私たちは映画を見に行きます。\", \"私は公園で騒ぎます。 私は日本語を勉強しています。\"]\n",
    "\n",
    "sentences2 = [\"私は公園で遊びます。 私は公園で楽しみます。\", \"私は公園で転びます。 私は公園で騒ぎます\", \"私は公園で転びます。 私は公園で歩きます。\"]"
   ]
  },
  {
   "attachments": {},
   "cell_type": "markdown",
   "metadata": {},
   "source": [
    "- pre-trained BERT\n",
    "- word2vec\n",
    "- doc2vec\n",
    "- sentence BERT"
   ]
  },
  {
   "cell_type": "code",
   "execution_count": 3,
   "metadata": {},
   "outputs": [
    {
     "name": "stderr",
     "output_type": "stream",
     "text": [
      "Some weights of the model checkpoint at cl-tohoku/bert-base-japanese-whole-word-masking were not used when initializing BertModel: ['cls.predictions.bias', 'cls.seq_relationship.bias', 'cls.predictions.transform.dense.bias', 'cls.predictions.transform.dense.weight', 'cls.predictions.transform.LayerNorm.bias', 'cls.seq_relationship.weight', 'cls.predictions.transform.LayerNorm.weight', 'cls.predictions.decoder.weight']\n",
      "- This IS expected if you are initializing BertModel from the checkpoint of a model trained on another task or with another architecture (e.g. initializing a BertForSequenceClassification model from a BertForPreTraining model).\n",
      "- This IS NOT expected if you are initializing BertModel from the checkpoint of a model that you expect to be exactly identical (initializing a BertForSequenceClassification model from a BertForSequenceClassification model).\n"
     ]
    }
   ],
   "source": [
    "# pre-trained BERT\n",
    "\n",
    "import numpy as np\n",
    "import torch\n",
    "from transformers import BertJapaneseTokenizer, BertModel\n",
    "\n",
    "BERT_MODEL_NAME = 'cl-tohoku/bert-base-japanese-whole-word-masking'\n",
    "tokenizer = BertJapaneseTokenizer.from_pretrained(BERT_MODEL_NAME)\n",
    "model_bert = BertModel.from_pretrained(BERT_MODEL_NAME)\n",
    "\n",
    "def sentence_to_vector_bert(model_bert, tokenizer, sentence):\n",
    "    tokens = tokenizer(sentence, add_special_tokens=True)[\"input_ids\"]\n",
    "    input = torch.tensor(tokens).unsqueeze(0)\n",
    "    with torch.no_grad():\n",
    "        outputs = model_bert(input, output_hidden_states=True)\n",
    "        last_hidden_state = outputs[0][:, 0, :]\n",
    "        averaged_hidden_state = last_hidden_state.mean(\n",
    "            dim=0).unsqueeze(0).reshape(-1)\n",
    "    return averaged_hidden_state\n"
   ]
  },
  {
   "cell_type": "code",
   "execution_count": 4,
   "metadata": {},
   "outputs": [],
   "source": [
    "# sentence_to_vector_bert(model_bert, tokenizer, sentences1[0])"
   ]
  },
  {
   "cell_type": "code",
   "execution_count": 5,
   "metadata": {},
   "outputs": [],
   "source": [
    "# word2vec\n",
    "\n",
    "import csv\n",
    "import numpy as np\n",
    "import MeCab\n",
    "from gensim.models import KeyedVectors\n",
    "from gensim.models import Word2Vec\n",
    "from sklearn.metrics.pairwise import cosine_similarity\n",
    "\n",
    "model_dir = '/Users/iomacbookair2/Documents/lab/DEIM2023/entity_vector/entity_vector.model.bin'\n",
    "model_word2vec = KeyedVectors.load_word2vec_format(model_dir, binary=True)\n",
    "\n",
    "# http://www.cl.ecei.tohoku.ac.jp/~m-suzuki/jawiki_vector/\n"
   ]
  },
  {
   "cell_type": "code",
   "execution_count": 6,
   "metadata": {},
   "outputs": [],
   "source": [
    "def calc_similarity_word2vec(sentence1, sentence2, model):\n",
    "  mecab = MeCab.Tagger()\n",
    "\n",
    "  pre_sentence1 = sentence1.split(\" \")\n",
    "  sentence1_words = []\n",
    "  for s1 in pre_sentence1:\n",
    "    sentence1_words += [line.split(\"\\t\")[0] for line in mecab.parse(s1).split(\"\\n\")[:-2]]\n",
    "  print(f\"sentence1_words: {sentence1_words}\")\n",
    "\n",
    "  pre_sentence2 = sentence2.split(\" \")\n",
    "  sentence2_words = []\n",
    "  for s2 in pre_sentence2:\n",
    "    sentence2_words += [line.split(\"\\t\")[0]\n",
    "                        for line in mecab.parse(s2).split(\"\\n\")[:-2]]\n",
    "  print(f\"sentence2_words: {sentence2_words}\")\n",
    "\n",
    "  # Compute word embeddings for each sentence\n",
    "  sentence1_embedding = np.mean([model[word]\n",
    "                                for word in sentence1_words], axis=0)\n",
    "  sentence2_embedding = np.mean([model[word]\n",
    "                                for word in sentence2_words], axis=0)\n",
    "  similarity = cosine_similarity(\n",
    "      [sentence1_embedding], [sentence2_embedding])[0][0]\n",
    "\n",
    "  return similarity\n",
    "\n",
    "\n",
    "def calc_average_similarity_word2vec(sentences):\n",
    "    similarities = []\n",
    "    for i in range(len(sentences)):\n",
    "        for j in range(i + 1, len(sentences)):\n",
    "            similarity = calc_similarity_word2vec(\n",
    "                sentences[i], sentences[j], model_word2vec)\n",
    "            similarities.append(similarity)\n",
    "\n",
    "    q = [0, 0.25, 0.5, 0.75, 1]\n",
    "    quartiles = {}\n",
    "    for i in range(len(q)):\n",
    "        quartiles[f\"quantile_{i}\"] = np.quantile(similarities, q[i])\n",
    "    quartiles[\"average_similarity\"] = np.mean(similarities)\n",
    "    size = len(list(np.sort(np.array(similarities))))\n",
    "    width_q = quartiles[\"quantile_3\"] - quartiles[\"quantile_1\"]\n",
    "\n",
    "    return quartiles, width_q, size\n"
   ]
  },
  {
   "cell_type": "code",
   "execution_count": 7,
   "metadata": {},
   "outputs": [
    {
     "name": "stdout",
     "output_type": "stream",
     "text": [
      "sentence1_words: ['私', 'は', '公園', 'で', '遊び', 'ます', '。', '彼女', 'は', '本', 'を', '読み', 'ます', '。']\n",
      "sentence2_words: ['彼', 'は', 'テニス', 'を', 'し', 'ます', '。', '私', 'たち', 'は', '映画', 'を', '見', 'に', '行き', 'ます', '。']\n",
      "sentence1_words: ['私', 'は', '公園', 'で', '遊び', 'ます', '。', '彼女', 'は', '本', 'を', '読み', 'ます', '。']\n",
      "sentence2_words: ['私', 'は', '公園', 'で', '騒ぎ', 'ます', '。', '私', 'は', '日本語', 'を', '勉強', 'し', 'て', 'い', 'ます', '。']\n",
      "sentence1_words: ['彼', 'は', 'テニス', 'を', 'し', 'ます', '。', '私', 'たち', 'は', '映画', 'を', '見', 'に', '行き', 'ます', '。']\n",
      "sentence2_words: ['私', 'は', '公園', 'で', '騒ぎ', 'ます', '。', '私', 'は', '日本語', 'を', '勉強', 'し', 'て', 'い', 'ます', '。']\n"
     ]
    },
    {
     "data": {
      "text/plain": [
       "({'quantile_0': 0.9181925,\n",
       "  'quantile_1': 0.9320336282253265,\n",
       "  'quantile_2': 0.9458747506141663,\n",
       "  'quantile_3': 0.9484353065490723,\n",
       "  'quantile_4': 0.95099586,\n",
       "  'average_similarity': 0.9383543},\n",
       " 0.016401678323745728,\n",
       " 3)"
      ]
     },
     "execution_count": 7,
     "metadata": {},
     "output_type": "execute_result"
    }
   ],
   "source": [
    "quartiles, width_q, size = calc_average_similarity_word2vec(sentences1)\n",
    "quartiles, width_q, size\n"
   ]
  },
  {
   "cell_type": "code",
   "execution_count": 8,
   "metadata": {},
   "outputs": [
    {
     "name": "stdout",
     "output_type": "stream",
     "text": [
      "sentence1_words: ['私', 'は', '公園', 'で', '遊び', 'ます', '。', '私', 'は', '公園', 'で', '楽しみ', 'ます', '。']\n",
      "sentence2_words: ['私', 'は', '公園', 'で', '転び', 'ます', '。', '私', 'は', '公園', 'で', '騒ぎ', 'ます']\n",
      "sentence1_words: ['私', 'は', '公園', 'で', '遊び', 'ます', '。', '私', 'は', '公園', 'で', '楽しみ', 'ます', '。']\n",
      "sentence2_words: ['私', 'は', '公園', 'で', '転び', 'ます', '。', '私', 'は', '公園', 'で', '歩き', 'ます', '。']\n",
      "sentence1_words: ['私', 'は', '公園', 'で', '転び', 'ます', '。', '私', 'は', '公園', 'で', '騒ぎ', 'ます']\n",
      "sentence2_words: ['私', 'は', '公園', 'で', '転び', 'ます', '。', '私', 'は', '公園', 'で', '歩き', 'ます', '。']\n"
     ]
    },
    {
     "data": {
      "text/plain": [
       "({'quantile_0': 0.9716927,\n",
       "  'quantile_1': 0.9763145446777344,\n",
       "  'quantile_2': 0.9809364080429077,\n",
       "  'quantile_3': 0.9834160506725311,\n",
       "  'quantile_4': 0.9858957,\n",
       "  'average_similarity': 0.9795082},\n",
       " 0.007101505994796753,\n",
       " 3)"
      ]
     },
     "execution_count": 8,
     "metadata": {},
     "output_type": "execute_result"
    }
   ],
   "source": [
    "quartiles, width_q, size = calc_average_similarity_word2vec(sentences2)\n",
    "quartiles, width_q, size\n"
   ]
  }
 ],
 "metadata": {
  "kernelspec": {
   "display_name": "lab",
   "language": "python",
   "name": "python3"
  },
  "language_info": {
   "codemirror_mode": {
    "name": "ipython",
    "version": 3
   },
   "file_extension": ".py",
   "mimetype": "text/x-python",
   "name": "python",
   "nbconvert_exporter": "python",
   "pygments_lexer": "ipython3",
   "version": "3.9.15"
  },
  "orig_nbformat": 4,
  "vscode": {
   "interpreter": {
    "hash": "4251bd4dd34dd98bdf6c990c128a7244877d69ebc52d9147cbc19662179b2ef6"
   }
  }
 },
 "nbformat": 4,
 "nbformat_minor": 2
}
