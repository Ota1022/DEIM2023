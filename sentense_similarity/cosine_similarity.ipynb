{
 "cells": [
  {
   "cell_type": "code",
   "execution_count": 11,
   "metadata": {},
   "outputs": [
    {
     "name": "stderr",
     "output_type": "stream",
     "text": [
      "Some weights of the model checkpoint at cl-tohoku/bert-base-japanese-whole-word-masking were not used when initializing BertModel: ['cls.predictions.decoder.weight', 'cls.seq_relationship.bias', 'cls.predictions.bias', 'cls.predictions.transform.LayerNorm.bias', 'cls.seq_relationship.weight', 'cls.predictions.transform.dense.bias', 'cls.predictions.transform.dense.weight', 'cls.predictions.transform.LayerNorm.weight']\n",
      "- This IS expected if you are initializing BertModel from the checkpoint of a model trained on another task or with another architecture (e.g. initializing a BertForSequenceClassification model from a BertForPreTraining model).\n",
      "- This IS NOT expected if you are initializing BertModel from the checkpoint of a model that you expect to be exactly identical (initializing a BertForSequenceClassification model from a BertForSequenceClassification model).\n"
     ]
    }
   ],
   "source": [
    "import numpy as np\n",
    "import torch\n",
    "from transformers import BertJapaneseTokenizer, BertModel\n",
    "\n",
    "MODEL_NAME = 'cl-tohoku/bert-base-japanese-whole-word-masking'\n",
    "tokenizer = BertJapaneseTokenizer.from_pretrained(MODEL_NAME)\n",
    "model = BertModel.from_pretrained(MODEL_NAME)"
   ]
  },
  {
   "cell_type": "code",
   "execution_count": 12,
   "metadata": {},
   "outputs": [],
   "source": [
    "sentences1 = [\"The cat is sleeping.\", \"The dog is running.\",\n",
    "              \"The mouse is hiding.\", \"The fish is swimming.\", \"The bird is singing.\"]\n",
    "sentences2 = [\"The dog is barking.\", \"The cat is playing.\",\n",
    "              \"The bird is flying.\", \"The fish is jumping.\", \"The mouse is eating.\"]"
   ]
  },
  {
   "cell_type": "code",
   "execution_count": 13,
   "metadata": {},
   "outputs": [],
   "source": [
    "def sentence_to_vector(model, tokenizer, sentence):\n",
    "    tokens = tokenizer(sentence, add_special_tokens=True)[\"input_ids\"]\n",
    "    input = torch.tensor(tokens).unsqueeze(0)\n",
    "    with torch.no_grad():\n",
    "        outputs = model(input, output_hidden_states=True)\n",
    "        last_hidden_state = outputs[0][:, 0, :]\n",
    "        averaged_hidden_state = last_hidden_state.mean(dim=0).unsqueeze(0)\n",
    "    return averaged_hidden_state"
   ]
  },
  {
   "cell_type": "code",
   "execution_count": 14,
   "metadata": {},
   "outputs": [],
   "source": [
    "def calc_similarity(sentence1, sentence2):\n",
    "    print(\"{}\\n{}\".format(sentence1, sentence2))\n",
    "\n",
    "    sentence_vector1 = sentence_to_vector(model, tokenizer, sentence1)\n",
    "    sentence_vector2 = sentence_to_vector(model, tokenizer, sentence2)\n",
    "\n",
    "    # Reshape the tensors to 1D\n",
    "    sentence_vector1 = sentence_vector1.reshape(-1)\n",
    "    sentence_vector2 = sentence_vector2.reshape(-1)\n",
    "\n",
    "    # Calculate the cosine similarity\n",
    "    similarity = float(torch.nn.functional.cosine_similarity(\n",
    "        sentence_vector1, sentence_vector2, dim=0).detach().numpy().copy())\n",
    "    print(\"Similarity:\", similarity)\n",
    "\n",
    "    return similarity"
   ]
  },
  {
   "cell_type": "code",
   "execution_count": 15,
   "metadata": {},
   "outputs": [],
   "source": [
    "def calc_average_similarity(sentences):\n",
    "    similarities = []\n",
    "    for i in range(1, len(sentences)):\n",
    "        similarity = calc_similarity(sentences[0], sentences[i])\n",
    "        similarities.append(similarity)\n",
    "    average_similarity = sum(similarities) / len(similarities)\n",
    "    print(\"Similarities:\", similarities)\n",
    "    print(\"Average similarity:\", average_similarity)\n",
    "\n",
    "    return average_similarity"
   ]
  },
  {
   "cell_type": "code",
   "execution_count": 16,
   "metadata": {},
   "outputs": [
    {
     "name": "stdout",
     "output_type": "stream",
     "text": [
      "The cat is sleeping.\n",
      "The dog is running.\n",
      "Similarity: 0.9558551907539368\n",
      "The cat is sleeping.\n",
      "The mouse is hiding.\n",
      "Similarity: 0.9288668632507324\n",
      "The cat is sleeping.\n",
      "The fish is swimming.\n",
      "Similarity: 0.9353626370429993\n",
      "The cat is sleeping.\n",
      "The bird is singing.\n",
      "Similarity: 0.9280246496200562\n",
      "Similarities: [0.9558551907539368, 0.9288668632507324, 0.9353626370429993, 0.9280246496200562]\n",
      "Average similarity: 0.9370273351669312\n"
     ]
    },
    {
     "data": {
      "text/plain": [
       "0.9370273351669312"
      ]
     },
     "execution_count": 16,
     "metadata": {},
     "output_type": "execute_result"
    }
   ],
   "source": [
    "calc_average_similarity(sentences1)"
   ]
  },
  {
   "cell_type": "code",
   "execution_count": 17,
   "metadata": {},
   "outputs": [],
   "source": [
    "def calc_average_similarity(sentences):\n",
    "    similarities = []\n",
    "    for i in range(len(sentences)):\n",
    "        for j in range(i + 1, len(sentences)):\n",
    "            similarity = calc_similarity(sentences[i], sentences[j])\n",
    "            similarities.append(similarity)\n",
    "\n",
    "    similarities = np.array(similarities)\n",
    "    quartiles = np.quantile(similarities, [0, 0.25, 0.5, 0.75, 1])\n",
    "    average_similarity = np.mean(similarities)\n",
    "\n",
    "    return list(quartiles) + [average_similarity]"
   ]
  },
  {
   "cell_type": "code",
   "execution_count": 18,
   "metadata": {},
   "outputs": [
    {
     "name": "stdout",
     "output_type": "stream",
     "text": [
      "The cat is sleeping.\n",
      "The dog is running.\n",
      "Similarity: 0.9558551907539368\n",
      "The cat is sleeping.\n",
      "The mouse is hiding.\n",
      "Similarity: 0.9288668632507324\n",
      "The cat is sleeping.\n",
      "The fish is swimming.\n",
      "Similarity: 0.9353626370429993\n",
      "The cat is sleeping.\n",
      "The bird is singing.\n",
      "Similarity: 0.9280246496200562\n",
      "The dog is running.\n",
      "The mouse is hiding.\n",
      "Similarity: 0.8939509391784668\n",
      "The dog is running.\n",
      "The fish is swimming.\n",
      "Similarity: 0.918599545955658\n",
      "The dog is running.\n",
      "The bird is singing.\n",
      "Similarity: 0.9109365940093994\n",
      "The mouse is hiding.\n",
      "The fish is swimming.\n",
      "Similarity: 0.9141663908958435\n",
      "The mouse is hiding.\n",
      "The bird is singing.\n",
      "Similarity: 0.9057633876800537\n",
      "The fish is swimming.\n",
      "The bird is singing.\n",
      "Similarity: 0.941848874092102\n"
     ]
    },
    {
     "data": {
      "text/plain": [
       "[0.8939509391784668,\n",
       " 0.9117440432310104,\n",
       " 0.9233120977878571,\n",
       " 0.9337386935949326,\n",
       " 0.9558551907539368,\n",
       " 0.9233375072479248]"
      ]
     },
     "execution_count": 18,
     "metadata": {},
     "output_type": "execute_result"
    }
   ],
   "source": [
    "calc_average_similarity(sentences1)"
   ]
  }
 ],
 "metadata": {
  "kernelspec": {
   "display_name": "lab",
   "language": "python",
   "name": "python3"
  },
  "language_info": {
   "codemirror_mode": {
    "name": "ipython",
    "version": 3
   },
   "file_extension": ".py",
   "mimetype": "text/x-python",
   "name": "python",
   "nbconvert_exporter": "python",
   "pygments_lexer": "ipython3",
   "version": "3.9.15"
  },
  "orig_nbformat": 4,
  "vscode": {
   "interpreter": {
    "hash": "4251bd4dd34dd98bdf6c990c128a7244877d69ebc52d9147cbc19662179b2ef6"
   }
  }
 },
 "nbformat": 4,
 "nbformat_minor": 2
}
