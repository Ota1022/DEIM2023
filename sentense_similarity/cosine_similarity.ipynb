{
 "cells": [
  {
   "cell_type": "code",
   "execution_count": 1,
   "metadata": {},
   "outputs": [],
   "source": [
    "sentences1 = [\"私は公園で遊びます。\", \"彼女は本を読みます。\", \"彼はテニスをします。\", \"私たちは映画を見に行きます。\", \"私は日本語を勉強しています。\"]\n",
    "\n",
    "sentences2 = [\"私は公園で遊びます。\", \"私は公園で楽しみます。\", \"私は公園で転びます。\", \"私は公園で騒ぎます\", \"私は公園で歩きます。\"]\n"
   ]
  },
  {
   "cell_type": "code",
   "execution_count": 2,
   "metadata": {},
   "outputs": [],
   "source": [
    "sentences1 = [\"私は公園で遊びます。 彼女は本を読みます。\", \"彼はテニスをします。 私たちは映画を見に行きます。\", \"私は公園で騒ぎます。 私は日本語を勉強しています。\"]\n",
    "\n",
    "sentences2 = [\"私は公園で遊びます。 私は公園で楽しみます。\", \"私は公園で転びます。 私は公園で騒ぎます\", \"私は公園で転びます。 私は公園で歩きます。\"]"
   ]
  },
  {
   "attachments": {},
   "cell_type": "markdown",
   "metadata": {},
   "source": [
    "- pre-trained BERT\n",
    "- word2vec\n",
    "- doc2vec\n",
    "- sentence BERT"
   ]
  },
  {
   "cell_type": "code",
   "execution_count": 3,
   "metadata": {},
   "outputs": [],
   "source": [
    "# pre-trained BERT\n",
    "\n",
    "# import numpy as np\n",
    "# import torch\n",
    "# from transformers import BertJapaneseTokenizer, BertModel\n",
    "\n",
    "# BERT_MODEL_NAME = 'cl-tohoku/bert-base-japanese-whole-word-masking'\n",
    "# tokenizer = BertJapaneseTokenizer.from_pretrained(BERT_MODEL_NAME)\n",
    "# model_bert = BertModel.from_pretrained(BERT_MODEL_NAME)\n",
    "\n",
    "# def sentence_to_vector_bert(model_bert, tokenizer, sentence):\n",
    "#     tokens = tokenizer(sentence, add_special_tokens=True)[\"input_ids\"]\n",
    "#     input = torch.tensor(tokens).unsqueeze(0)\n",
    "#     with torch.no_grad():\n",
    "#         outputs = model_bert(input, output_hidden_states=True)\n",
    "#         last_hidden_state = outputs[0][:, 0, :]\n",
    "#         averaged_hidden_state = last_hidden_state.mean(\n",
    "#             dim=0).unsqueeze(0).reshape(-1)\n",
    "#     return averaged_hidden_state\n"
   ]
  },
  {
   "cell_type": "code",
   "execution_count": 4,
   "metadata": {},
   "outputs": [],
   "source": [
    "# sentence_to_vector_bert(model_bert, tokenizer, sentences1[0])"
   ]
  },
  {
   "cell_type": "code",
   "execution_count": 5,
   "metadata": {},
   "outputs": [],
   "source": [
    "# word2vec\n",
    "\n",
    "import re\n",
    "import csv\n",
    "import numpy as np\n",
    "import MeCab\n",
    "from gensim.models import KeyedVectors\n",
    "from gensim.models import Word2Vec\n",
    "from sklearn.metrics.pairwise import cosine_similarity\n",
    "\n",
    "model_dir = '/Users/iomacbookair2/Documents/lab/DEIM2023/entity_vector/entity_vector.model.bin'\n",
    "model_word2vec = KeyedVectors.load_word2vec_format(model_dir, binary=True)\n",
    "\n",
    "# http://www.cl.ecei.tohoku.ac.jp/~m-suzuki/jawiki_vector/\n"
   ]
  },
  {
   "cell_type": "code",
   "execution_count": 24,
   "metadata": {},
   "outputs": [],
   "source": [
    "def calc_similarity_word2vec(sentence1, sentence2, model):\n",
    "  mecab = MeCab.Tagger()\n",
    "\n",
    "  pre_sentence1 = sentence1.split(\" \")\n",
    "  sentence1_words = []\n",
    "  for s1 in pre_sentence1:\n",
    "    sentence1_words += [line.split(\"\\t\")[0]\n",
    "                        for line in mecab.parse(s1).split(\"\\n\")[:-2]]\n",
    "  print(f\"sentence1_words: {sentence1_words}\")\n",
    "\n",
    "  pre_sentence2 = sentence2.split(\" \")\n",
    "  sentence2_words = []\n",
    "  for s2 in pre_sentence2:\n",
    "    sentence2_words += [line.split(\"\\t\")[0]\n",
    "                        for line in mecab.parse(s2).split(\"\\n\")[:-2]]\n",
    "  print(f\"sentence2_words: {type(sentence2_words)}\")\n",
    "\n",
    "  if not sentence1_words or not sentence2_words:\n",
    "    similarity = 0\n",
    "  elif (len(sentence1_words) == 1 and len(sentence2_words) != 1) or (len(sentence2_words) == 1 and len(sentence1_words) != 1):\n",
    "    similarity = 0\n",
    "  elif all(re.match(r'.*[a-zA-Z].*', word) for word in sentence1_words) or all(re.match(r'.*[a-zA-Z].*', word) for word in sentence2_words):\n",
    "    similarity = 0\n",
    "  else:\n",
    "    # Compute word embeddings for each sentence\n",
    "    sentence1_embedding = np.mean([model[word]\n",
    "                                  for word in sentence1_words if word in model], axis=0)\n",
    "    print(f\"sentence1_embedding: {sentence1_embedding}\")\n",
    "    sentence2_embedding = np.mean([model[word]\n",
    "                                  for word in sentence2_words if word in model], axis=0)\n",
    "    print(f\"sentence2_embedding: {sentence2_embedding}\")\n",
    "    if np.isnan(sentence1_embedding).any() or np.isnan(sentence2_embedding).any():\n",
    "        similarity = 0\n",
    "    else:\n",
    "      similarity = cosine_similarity([sentence1_embedding], [sentence2_embedding])[0][0]\n",
    "\n",
    "  print(f\"similarity: {similarity}\")\n",
    "\n",
    "  return similarity\n",
    "\n",
    "\n",
    "def calc_average_similarity_word2vec(sentences):\n",
    "    similarities = []\n",
    "    for i in range(len(sentences)):\n",
    "        for j in range(i + 1, len(sentences)):\n",
    "            similarity = calc_similarity_word2vec(\n",
    "                sentences[i], sentences[j], model_word2vec)\n",
    "            similarities.append(similarity)\n",
    "\n",
    "    q = [0, 0.25, 0.5, 0.75, 1]\n",
    "    outputs = {}\n",
    "    for i in range(len(q)):\n",
    "        outputs[f\"quantile_{i}\"] = np.quantile(similarities, q[i])\n",
    "    outputs[\"average_similarity\"] = np.mean(similarities)\n",
    "    outputs[\"size\"] = len(list(np.sort(np.array(similarities))))\n",
    "    outputs[\"width_q\"] = outputs[\"quantile_3\"] - outputs[\"quantile_1\"]\n",
    "\n",
    "    return outputs\n"
   ]
  },
  {
   "cell_type": "code",
   "execution_count": 18,
   "metadata": {},
   "outputs": [],
   "source": [
    "sentences1 = [\"うす\", \"うっす\"]\n"
   ]
  },
  {
   "cell_type": "code",
   "execution_count": 25,
   "metadata": {},
   "outputs": [
    {
     "name": "stdout",
     "output_type": "stream",
     "text": [
      "sentence1_words: ['うす']\n",
      "sentence2_words: <class 'list'>\n",
      "sentence1_embedding: [ 9.33173373e-02  1.32539362e-01  7.16414079e-02 -3.78423870e-01\n",
      "  2.13147979e-02 -8.52847844e-02 -1.76157489e-01 -1.83672637e-01\n",
      " -1.09914519e-01  1.43518209e-01 -1.52750361e+00 -4.91113484e-01\n",
      " -5.72648704e-01 -6.41453087e-01  5.52469432e-01  1.77199021e-01\n",
      "  9.94765282e-01  2.68994302e-01 -4.34988618e-01  4.35320735e-01\n",
      "  1.81212962e-01 -1.02123010e+00  5.73091209e-01 -9.29585814e-01\n",
      "  4.00175840e-01 -3.53511781e-01  1.29680768e-01  1.21582091e-01\n",
      " -4.53335792e-01 -3.31579834e-01  8.68348598e-01  3.19731176e-01\n",
      "  2.55779684e-01  4.44218457e-01  5.84572673e-01  2.53961813e-02\n",
      " -1.69237897e-01 -8.05172980e-01  6.74818754e-01  5.03557920e-01\n",
      "  5.65926433e-01 -8.10618885e-03  5.07991731e-01 -6.81066573e-01\n",
      "  8.67584571e-02  2.55616039e-01 -4.87629652e-01  6.55323491e-02\n",
      " -5.60740113e-01  6.30179718e-02 -2.37908125e-01 -4.35338527e-01\n",
      "  1.25867069e+00 -8.06568265e-02 -1.52061343e-01  5.45516431e-01\n",
      " -3.90336484e-01 -5.33924460e-01 -2.07223311e-01  1.06879580e+00\n",
      " -5.47756553e-01  3.92933846e-01  6.59326836e-02 -1.04025733e+00\n",
      " -4.63752478e-01  3.31936091e-01 -4.80628848e-01  4.60680574e-02\n",
      "  3.61549675e-01 -4.36076880e-01 -6.05389833e-01 -1.26612127e-01\n",
      " -9.43903387e-01  4.31543916e-01  1.02171624e+00 -3.38734061e-01\n",
      "  2.04165912e+00  5.88727929e-02 -2.66151607e-01 -6.11999393e-01\n",
      " -6.64739728e-01 -8.39300570e-04  5.72572231e-01  7.42464423e-01\n",
      " -9.74112898e-02 -7.18723416e-01  6.84315622e-01 -5.07534027e-01\n",
      "  4.48071867e-01  6.73212945e-01  6.30431890e-01  1.06208086e+00\n",
      " -3.72596085e-02  3.15509737e-01  3.71097296e-01 -9.41559017e-01\n",
      " -2.61347264e-01 -6.27769604e-02 -7.74184823e-01  8.53523910e-01\n",
      " -6.13495409e-01 -1.18224120e+00 -3.81182849e-01 -9.55364287e-01\n",
      "  9.14910156e-03 -5.84639132e-01  5.25928736e-01  4.03441072e-01\n",
      " -8.66989970e-01  4.39417511e-01  3.65906388e-01  1.16907276e-01\n",
      "  1.23514719e-01  7.15732753e-01  1.47703782e-01 -7.74876475e-01\n",
      " -5.60293734e-01 -2.70799398e-02 -3.37076813e-01 -2.65990674e-01\n",
      "  2.49248326e-01 -9.58770692e-01 -2.46252805e-01 -1.30331423e-02\n",
      "  1.11170358e-03 -4.26120222e-01  8.92713010e-01  1.19319403e+00\n",
      "  2.83024400e-01 -5.20594120e-01  7.89397418e-01 -5.44450283e-02\n",
      "  1.79007098e-01 -3.02352786e-01 -1.46227628e-01  5.80296934e-01\n",
      " -2.49564737e-01  3.31841767e-01  3.35603058e-01  6.68809891e-01\n",
      " -2.76923031e-01  1.93792451e-02  7.64758706e-01  3.77733372e-02\n",
      " -2.79552817e-01  4.34924603e-01 -1.03265576e-01  2.87499845e-01\n",
      " -7.52977967e-01  9.19952571e-01 -3.40186089e-01 -1.20533621e+00\n",
      " -1.17292158e-01 -1.85681537e-01 -1.02678716e+00  6.62484288e-01\n",
      "  3.20473075e-01  7.47764409e-01  8.45563889e-01 -4.79362488e-01\n",
      "  3.88653427e-01 -2.67463416e-01 -2.49626249e-01 -2.08448514e-01\n",
      "  8.40372205e-01  1.28726482e-01 -1.06084847e+00  7.63266608e-02\n",
      " -4.01351571e-01  2.71500349e-01  5.10106087e-01  2.74781317e-01\n",
      " -1.32813603e-01 -2.07459316e-01 -1.07030392e+00  1.45296901e-01\n",
      "  4.03483957e-01  8.27510729e-02 -2.25486159e-01 -1.76042423e-01\n",
      "  3.61954749e-01  3.14604014e-01 -7.72835970e-01  3.05762380e-01\n",
      "  1.05350517e-01 -1.20720732e+00 -1.88859805e-01  3.04471225e-01\n",
      " -2.15754807e-01  2.83168405e-01  1.61543101e-01  4.79904562e-01\n",
      " -1.10498571e+00  1.68213382e-01 -9.92988348e-02  1.14104414e+00\n",
      " -1.60979018e-01 -7.11609483e-01  1.58442244e-01 -1.68590114e-01]\n",
      "sentence2_embedding: nan\n",
      "similarity: 0\n"
     ]
    },
    {
     "data": {
      "text/plain": [
       "{'quantile_0': 0,\n",
       " 'quantile_1': 0.0,\n",
       " 'quantile_2': 0.0,\n",
       " 'quantile_3': 0.0,\n",
       " 'quantile_4': 0,\n",
       " 'average_similarity': 0.0,\n",
       " 'size': 1,\n",
       " 'width_q': 0.0}"
      ]
     },
     "execution_count": 25,
     "metadata": {},
     "output_type": "execute_result"
    }
   ],
   "source": [
    "calc_average_similarity_word2vec(sentences1)"
   ]
  },
  {
   "cell_type": "code",
   "execution_count": null,
   "metadata": {},
   "outputs": [],
   "source": [
    "calc_average_similarity_word2vec(sentences2)"
   ]
  }
 ],
 "metadata": {
  "kernelspec": {
   "display_name": "lab",
   "language": "python",
   "name": "python3"
  },
  "language_info": {
   "codemirror_mode": {
    "name": "ipython",
    "version": 3
   },
   "file_extension": ".py",
   "mimetype": "text/x-python",
   "name": "python",
   "nbconvert_exporter": "python",
   "pygments_lexer": "ipython3",
   "version": "3.9.15"
  },
  "orig_nbformat": 4,
  "vscode": {
   "interpreter": {
    "hash": "4251bd4dd34dd98bdf6c990c128a7244877d69ebc52d9147cbc19662179b2ef6"
   }
  }
 },
 "nbformat": 4,
 "nbformat_minor": 2
}
