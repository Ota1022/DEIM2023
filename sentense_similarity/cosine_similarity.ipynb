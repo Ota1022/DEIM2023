{
 "cells": [
  {
   "cell_type": "code",
   "execution_count": 1,
   "metadata": {},
   "outputs": [],
   "source": [
    "sentences1 = [\"私は公園で遊びます。\", \"彼女は本を読みます。\", \"彼はテニスをします。\", \"私たちは映画を見に行きます。\", \"私は日本語を勉強しています。\"]\n",
    "\n",
    "sentences2 = [\"私は公園で遊びます。\", \"私は公園で楽しみます。\", \"私は公園で転びます。\", \"私は公園で騒ぎます\", \"私は公園で歩きます。\"]\n"
   ]
  },
  {
   "cell_type": "code",
   "execution_count": 2,
   "metadata": {},
   "outputs": [],
   "source": [
    "sentences1 = [\"私は公園で遊びます。 彼女は本を読みます。\", \"彼はテニスをします。 私たちは映画を見に行きます。\", \"私は公園で騒ぎます。 私は日本語を勉強しています。\"]\n",
    "\n",
    "sentences2 = [\"私は公園で遊びます。 私は公園で楽しみます。\", \"私は公園で転びます。 私は公園で騒ぎます\", \"私は公園で転びます。 私は公園で歩きます。\"]"
   ]
  },
  {
   "attachments": {},
   "cell_type": "markdown",
   "metadata": {},
   "source": [
    "- pre-trained BERT\n",
    "- word2vec\n",
    "- doc2vec\n",
    "- sentence BERT"
   ]
  },
  {
   "cell_type": "code",
   "execution_count": 3,
   "metadata": {},
   "outputs": [],
   "source": [
    "# pre-trained BERT\n",
    "\n",
    "# import numpy as np\n",
    "# import torch\n",
    "# from transformers import BertJapaneseTokenizer, BertModel\n",
    "\n",
    "# BERT_MODEL_NAME = 'cl-tohoku/bert-base-japanese-whole-word-masking'\n",
    "# tokenizer = BertJapaneseTokenizer.from_pretrained(BERT_MODEL_NAME)\n",
    "# model_bert = BertModel.from_pretrained(BERT_MODEL_NAME)\n",
    "\n",
    "# def sentence_to_vector_bert(model_bert, tokenizer, sentence):\n",
    "#     tokens = tokenizer(sentence, add_special_tokens=True)[\"input_ids\"]\n",
    "#     input = torch.tensor(tokens).unsqueeze(0)\n",
    "#     with torch.no_grad():\n",
    "#         outputs = model_bert(input, output_hidden_states=True)\n",
    "#         last_hidden_state = outputs[0][:, 0, :]\n",
    "#         averaged_hidden_state = last_hidden_state.mean(\n",
    "#             dim=0).unsqueeze(0).reshape(-1)\n",
    "#     return averaged_hidden_state\n"
   ]
  },
  {
   "cell_type": "code",
   "execution_count": 4,
   "metadata": {},
   "outputs": [],
   "source": [
    "# sentence_to_vector_bert(model_bert, tokenizer, sentences1[0])"
   ]
  },
  {
   "cell_type": "code",
   "execution_count": 5,
   "metadata": {},
   "outputs": [],
   "source": [
    "# word2vec\n",
    "\n",
    "import re\n",
    "import csv\n",
    "import numpy as np\n",
    "import MeCab\n",
    "from gensim.models import KeyedVectors\n",
    "from gensim.models import Word2Vec\n",
    "from sklearn.metrics.pairwise import cosine_similarity\n",
    "\n",
    "model_dir = '/Users/iomacbookair2/Documents/lab/DEIM2023/entity_vector/entity_vector.model.bin'\n",
    "model_word2vec = KeyedVectors.load_word2vec_format(model_dir, binary=True)\n",
    "\n",
    "# http://www.cl.ecei.tohoku.ac.jp/~m-suzuki/jawiki_vector/\n"
   ]
  },
  {
   "cell_type": "code",
   "execution_count": 6,
   "metadata": {},
   "outputs": [],
   "source": [
    "def calc_similarity_word2vec(sentence1, sentence2, model):\n",
    "  mecab = MeCab.Tagger(\n",
    "      '-d /opt/homebrew/lib/mecab/dic/mecab-ipadic-neologd')\n",
    "\n",
    "  pre_sentence1 = sentence1.split(\" \")\n",
    "  sentence1_words = []\n",
    "  for s1 in pre_sentence1:\n",
    "    sentence1_words += [line.split(\"\\t\")[0]\n",
    "                        for line in mecab.parse(s1).split(\"\\n\")[:-2]]\n",
    "  print(f\"sentence1_words: {sentence1_words}\")\n",
    "\n",
    "  pre_sentence2 = sentence2.split(\" \")\n",
    "  sentence2_words = []\n",
    "  for s2 in pre_sentence2:\n",
    "    sentence2_words += [line.split(\"\\t\")[0]\n",
    "                        for line in mecab.parse(s2).split(\"\\n\")[:-2]]\n",
    "  print(f\"sentence2_words: {sentence2_words}\")\n",
    "\n",
    "  if not sentence1_words or not sentence2_words:\n",
    "    similarity = 0\n",
    "  elif (len(sentence1_words) == 1 and len(sentence2_words) != 1) or (len(sentence2_words) == 1 and len(sentence1_words) != 1):\n",
    "    similarity = 0\n",
    "  elif all(re.match(r'.*[a-zA-Z].*', word) for word in sentence1_words) or all(re.match(r'.*[a-zA-Z].*', word) for word in sentence2_words):\n",
    "    similarity = 0\n",
    "  else:\n",
    "    # Compute word embeddings for each sentence\n",
    "    sentence1_embedding = np.mean([model[word]\n",
    "                                  for word in sentence1_words if word in model], axis=0)\n",
    "    # print(f\"sentence1_embedding: {sentence1_embedding}\")\n",
    "    sentence2_embedding = np.mean([model[word]\n",
    "                                  for word in sentence2_words if word in model], axis=0)\n",
    "    # print(f\"sentence2_embedding: {sentence2_embedding}\")\n",
    "    if np.isnan(sentence1_embedding).any() or np.isnan(sentence2_embedding).any():\n",
    "        similarity = 0\n",
    "    else:\n",
    "      similarity = cosine_similarity(\n",
    "          [sentence1_embedding], [sentence2_embedding])[0][0]\n",
    "\n",
    "  print(f\"similarity: {similarity}\")\n",
    "\n",
    "  return similarity\n",
    "\n",
    "\n",
    "def calc_average_similarity_word2vec(sentences, key):\n",
    "    similarities = []\n",
    "    for i in range(len(sentences)):\n",
    "        for j in range(i + 1, len(sentences)):\n",
    "            similarity = calc_similarity_word2vec(\n",
    "                sentences[i], sentences[j], model_word2vec)\n",
    "            similarities.append(similarity)\n",
    "\n",
    "    q = [0, 0.25, 0.5, 0.75, 1]\n",
    "    outputs = {}\n",
    "    for i in range(len(q)):\n",
    "        outputs[f\"quantile_{i}\"] = np.quantile(similarities, q[i])\n",
    "    outputs[\"average_similarity\"] = np.mean(similarities)\n",
    "    outputs[\"size\"] = len(list(np.sort(np.array(similarities))))\n",
    "    outputs[\"width_q\"] = outputs[\"quantile_3\"] - outputs[\"quantile_1\"]\n",
    "\n",
    "    if key == \"quantile_3\":\n",
    "        return outputs[\"quantile_3\"]\n",
    "    elif key == \"average\":\n",
    "        return outputs[\"average_similarity\"]\n",
    "    elif key == \"size\":\n",
    "        return outputs[\"size\"]\n",
    "    elif key == \"width\":\n",
    "        return outputs[\"width_q\"]\n"
   ]
  },
  {
   "cell_type": "code",
   "execution_count": 7,
   "metadata": {},
   "outputs": [],
   "source": [
    "sentences1 = [\"うす\", \"うっす\"]\n"
   ]
  },
  {
   "cell_type": "code",
   "execution_count": 8,
   "metadata": {},
   "outputs": [
    {
     "name": "stdout",
     "output_type": "stream",
     "text": [
      "sentence1_words: ['うす']\n",
      "sentence2_words: ['うっす']\n",
      "similarity: 0\n"
     ]
    },
    {
     "name": "stderr",
     "output_type": "stream",
     "text": [
      "/Users/iomacbookair2/miniforge3/envs/lab/lib/python3.9/site-packages/numpy/core/fromnumeric.py:3464: RuntimeWarning: Mean of empty slice.\n",
      "  return _methods._mean(a, axis=axis, dtype=dtype,\n",
      "/Users/iomacbookair2/miniforge3/envs/lab/lib/python3.9/site-packages/numpy/core/_methods.py:192: RuntimeWarning: invalid value encountered in scalar divide\n",
      "  ret = ret.dtype.type(ret / rcount)\n"
     ]
    },
    {
     "data": {
      "text/plain": [
       "0.0"
      ]
     },
     "execution_count": 8,
     "metadata": {},
     "output_type": "execute_result"
    }
   ],
   "source": [
    "calc_average_similarity_word2vec(sentences1, \"quantile_3\")\n"
   ]
  },
  {
   "cell_type": "code",
   "execution_count": 9,
   "metadata": {},
   "outputs": [
    {
     "name": "stdout",
     "output_type": "stream",
     "text": [
      "sentence1_words: ['私', 'は', '公園', 'で', '遊び', 'ます', '。', '私', 'は', '公園', 'で', '楽しみ', 'ます', '。']\n",
      "sentence2_words: ['私', 'は', '公園', 'で', '転び', 'ます', '。', '私', 'は', '公園', 'で', '騒ぎ', 'ます']\n",
      "similarity: 0.971692681312561\n",
      "sentence1_words: ['私', 'は', '公園', 'で', '遊び', 'ます', '。', '私', 'は', '公園', 'で', '楽しみ', 'ます', '。']\n",
      "sentence2_words: ['私', 'は', '公園', 'で', '転び', 'ます', '。', '私', 'は', '公園', 'で', '歩き', 'ます', '。']\n",
      "similarity: 0.9858956933021545\n",
      "sentence1_words: ['私', 'は', '公園', 'で', '転び', 'ます', '。', '私', 'は', '公園', 'で', '騒ぎ', 'ます']\n",
      "sentence2_words: ['私', 'は', '公園', 'で', '転び', 'ます', '。', '私', 'は', '公園', 'で', '歩き', 'ます', '。']\n",
      "similarity: 0.9809364080429077\n"
     ]
    },
    {
     "data": {
      "text/plain": [
       "0.9834160506725311"
      ]
     },
     "execution_count": 9,
     "metadata": {},
     "output_type": "execute_result"
    }
   ],
   "source": [
    "calc_average_similarity_word2vec(sentences2, \"quantile_3\")"
   ]
  }
 ],
 "metadata": {
  "kernelspec": {
   "display_name": "lab",
   "language": "python",
   "name": "python3"
  },
  "language_info": {
   "codemirror_mode": {
    "name": "ipython",
    "version": 3
   },
   "file_extension": ".py",
   "mimetype": "text/x-python",
   "name": "python",
   "nbconvert_exporter": "python",
   "pygments_lexer": "ipython3",
   "version": "3.9.15"
  },
  "orig_nbformat": 4,
  "vscode": {
   "interpreter": {
    "hash": "4251bd4dd34dd98bdf6c990c128a7244877d69ebc52d9147cbc19662179b2ef6"
   }
  }
 },
 "nbformat": 4,
 "nbformat_minor": 2
}
