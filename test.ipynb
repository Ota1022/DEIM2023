{
 "cells": [
  {
   "cell_type": "code",
   "execution_count": 1,
   "metadata": {},
   "outputs": [
    {
     "name": "stdout",
     "output_type": "stream",
     "text": [
      "0.9999999999999999\n"
     ]
    }
   ],
   "source": [
    "import numpy as np\n",
    "\n",
    "time_series_1 = [1, 2, 3, 4, 5]\n",
    "time_series_2 = [2, 3, 4, 5, 6]\n",
    "\n",
    "correlation = np.corrcoef(time_series_1, time_series_2)[0, 1]\n",
    "print(correlation)\n"
   ]
  },
  {
   "cell_type": "code",
   "execution_count": 2,
   "metadata": {},
   "outputs": [
    {
     "name": "stdout",
     "output_type": "stream",
     "text": [
      "[ 6 17 32 50 70 54 38 23 10]\n"
     ]
    }
   ],
   "source": [
    "import numpy as np\n",
    "\n",
    "time_series_1 = [1, 2, 3, 4, 5]\n",
    "time_series_2 = [2, 3, 4, 5, 6]\n",
    "\n",
    "cross_correlation = np.correlate(time_series_1, time_series_2, mode='full')\n",
    "print(cross_correlation)\n"
   ]
  },
  {
   "cell_type": "code",
   "execution_count": 3,
   "metadata": {},
   "outputs": [
    {
     "name": "stdout",
     "output_type": "stream",
     "text": [
      "[ 6 17 32 50 70 54 38 23 10]\n"
     ]
    }
   ],
   "source": [
    "from scipy.signal import correlate\n",
    "\n",
    "time_series_1 = [1, 2, 3, 4, 5]\n",
    "time_series_2 = [2, 3, 4, 5, 6]\n",
    "\n",
    "cross_correlation = correlate(time_series_1, time_series_2)\n",
    "print(cross_correlation)\n"
   ]
  }
 ],
 "metadata": {
  "kernelspec": {
   "display_name": "lab",
   "language": "python",
   "name": "python3"
  },
  "language_info": {
   "codemirror_mode": {
    "name": "ipython",
    "version": 3
   },
   "file_extension": ".py",
   "mimetype": "text/x-python",
   "name": "python",
   "nbconvert_exporter": "python",
   "pygments_lexer": "ipython3",
   "version": "3.9.15 | packaged by conda-forge | (main, Nov 22 2022, 08:48:25) \n[Clang 14.0.6 ]"
  },
  "orig_nbformat": 4,
  "vscode": {
   "interpreter": {
    "hash": "4251bd4dd34dd98bdf6c990c128a7244877d69ebc52d9147cbc19662179b2ef6"
   }
  }
 },
 "nbformat": 4,
 "nbformat_minor": 2
}
